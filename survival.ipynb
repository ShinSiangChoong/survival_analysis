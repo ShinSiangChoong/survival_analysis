{
 "cells": [
  {
   "cell_type": "markdown",
   "id": "722f6a8e",
   "metadata": {},
   "source": [
    "## Survival Analysis\n",
    "- Survival Analysis, a.k.a Churn Analysis is a popular topic in Applied Data Science. It is the analysis of a special type of outcome variable i.e., the time until an event occurs. The event can be death, subscription cancellation, etc. \n",
    "\n",
    "- The survival curve, or survival function, is defined as $S(t) = P(T>t)$, where $T$ is the actual survival time.\n",
    "- $S(t)$ indicates the probability that the subject survives at least up to time $t$. \n",
    "- This notebook employs the BrainCancer datasets [1] as an example to summaries some basic concepts of survival analysis. Please refer to [2] for more details about those concepts."
   ]
  },
  {
   "cell_type": "code",
   "execution_count": 32,
   "id": "263d85f3",
   "metadata": {},
   "outputs": [],
   "source": [
    "import pandas as pd\n",
    "import numpy as np\n",
    "import matplotlib.pyplot as plt\n",
    "from lifelines import KaplanMeierFitter, CoxPHFitter\n",
    "from lifelines.statistics import proportional_hazard_test"
   ]
  },
  {
   "cell_type": "code",
   "execution_count": 2,
   "id": "5bdef158",
   "metadata": {},
   "outputs": [],
   "source": [
    "df = pd.read_csv('brain_cancer.csv')\n",
    "df['_id'] = df.index"
   ]
  },
  {
   "cell_type": "markdown",
   "id": "cbc89790",
   "metadata": {},
   "source": [
    "### Kaplan-Meier Survival Curve"
   ]
  },
  {
   "cell_type": "markdown",
   "id": "00c7dc75",
   "metadata": {},
   "source": [
    "#### Manual Calculation of Kaplan-Meier Survival Curve\n",
    "\n",
    "Let $d_1 < d_2 < · · · < d_k$ denote the $k$ unique death times among the noncensored subjects, by Law of Total Probability,\n",
    "\n",
    "$$ P(T>d_k) = P(T>d_k|T>d_{k-1})P(T>d_{k-1}) + P(T>d_k|T \\leq d_{k-1})P(T \\leq d_{k-1}) $$\n",
    "\n",
    "Since $P(T>d_k|T \\leq d_{k-1})=0$ i.e. it is impossible for a subject to survive up to $d_k$ if it doesn't survive until $d_{k-1}$, we can conclude that:\n",
    "\n",
    "$$ S(d_k) = P(T>d_k) = P(T>d_k|T>d_{k-1})P(T>d_{k-1}) $$\n",
    "\n",
    "Solving this recursively, we get\n",
    "\n",
    "$$ S(d_k) = P(T>d_k|T>d_{k-1})P(T>d_{k-1}) \\times ... \\times P(T>d_2|T>d_1)P(T>d_1) $$\n",
    "\n",
    "A natural estimation of $P(T>d_k|T>d_{k-1})$ (Conditional Survival Probability at time $d_k$ given the subject is still at risk at time $d_{k-1}$) is $(r_k − q_k)/r_k$, where $r_k$ and $q_k$ denote the number of subjects at risk up to time $d_k$ and died at time $d_k$."
   ]
  },
  {
   "cell_type": "code",
   "execution_count": 3,
   "id": "b9691893",
   "metadata": {
    "scrolled": true
   },
   "outputs": [],
   "source": [
    "def count_at_risk(time, df=df):\n",
    "    return (df['time']>=time).sum()"
   ]
  },
  {
   "cell_type": "code",
   "execution_count": 4,
   "id": "02e7fef2",
   "metadata": {
    "scrolled": true
   },
   "outputs": [],
   "source": [
    "df_survival = df.loc[df['status']==1].groupby(\n",
    "    'time', as_index=False\n",
    ")['_id'].count().rename(columns={\n",
    "    '_id':'q',\n",
    "    'time':'death_time'\n",
    "})\n",
    "df_survival.loc[-1] = [0, 0]  # adding the 1st row with time 0 and 0 death\n",
    "df_survival.index = df_survival.index + 1  # shifting index\n",
    "df_survival.sort_index(inplace=True)\n",
    "# # adding the last row with the max time and 0 death\n",
    "# df_survival.loc[df_survival.shape[0]] = [df['time'].max(), 0]\n",
    "df_survival['r'] = df_survival['death_time'].apply(count_at_risk)\n",
    "\n",
    "df_survival['cond_survival_prob'] = (\n",
    "    (df_survival['r'] - df_survival['q']) / df_survival['r']\n",
    ")\n",
    "\n",
    "df_survival['survival_prob'] = df_survival['cond_survival_prob'].cumprod()\n"
   ]
  },
  {
   "cell_type": "code",
   "execution_count": 5,
   "id": "829535f0",
   "metadata": {},
   "outputs": [],
   "source": [
    "df['q'], df['r'] = np.nan, np.nan\n",
    "df.loc[df['status']==1, 'q'] = df.loc[df['status']==1].groupby('time')['_id'].transform('count')\n",
    "df.loc[df['status']==1, 'r'] = df.loc[df['status']==1, 'time'].apply(count_at_risk)\n",
    "df['cond_survival_prob'] = (df['r'] - df['q']) / df['r']\n",
    "df = df.sort_values(['time', 'status'], ascending=[True, False]).reset_index(drop=True)\n",
    "df['survival_prob'] = df['cond_survival_prob'].cumprod().ffill()\n",
    "\n",
    "df_survival = df[['time', 'survival_prob']].drop_duplicates(subset=['time'])\n",
    "df_survival.loc[-1] = [0, 1]  # adding the 1st row with time 0 and 0 death\n",
    "df_survival.index = df_survival.index + 1  # shifting index\n",
    "df_survival.sort_index(inplace=True)"
   ]
  },
  {
   "cell_type": "code",
   "execution_count": 6,
   "id": "50eae5e3",
   "metadata": {
    "scrolled": false
   },
   "outputs": [
    {
     "data": {
      "image/png": "[encoded data removed]",
      "text/plain": [
       "<Figure size 432x288 with 1 Axes>"
      ]
     },
     "metadata": {
      "needs_background": "light"
     },
     "output_type": "display_data"
    }
   ],
   "source": [
    "plt.step(x=df_survival['time'], y=df_survival['survival_prob'], where='post')\n",
    "display()"
   ]
  },
  {
   "cell_type": "markdown",
   "id": "7e0b5791",
   "metadata": {},
   "source": [
    "#### Kaplan-Meier Survival Curve using Lifelines KaplanMeierFitter\n",
    "\n",
    "We can check the correctness of the manual calculation using the lifelines library [3]. "
   ]
  },
  {
   "cell_type": "code",
   "execution_count": 7,
   "id": "a8812a9d",
   "metadata": {
    "scrolled": false
   },
   "outputs": [
    {
     "data": {
      "image/png": "[encoded data removed]",
      "text/plain": [
       "<Figure size 432x288 with 2 Axes>"
      ]
     },
     "metadata": {
      "needs_background": "light"
     },
     "output_type": "display_data"
    }
   ],
   "source": [
    "kmf = KaplanMeierFitter()\n",
    "kmf.fit(df[\"time\"], df[\"status\"], label='Survival Rate')\n",
    "kmf.plot(at_risk_counts=True)\n",
    "plt.xlabel('Period (in days)')\n",
    "plt.ylabel('Survival rate')\n",
    "display()"
   ]
  },
  {
   "cell_type": "markdown",
   "id": "5bbed06a",
   "metadata": {},
   "source": [
    "We see the 2 survival curves are similar, in fact they are actually identical:"
   ]
  },
  {
   "cell_type": "code",
   "execution_count": 8,
   "id": "70eec4d1",
   "metadata": {
    "scrolled": true
   },
   "outputs": [],
   "source": [
    "assert all(\n",
    "    np.isclose(\n",
    "        df_survival['survival_prob'].values, \n",
    "        kmf.survival_function_['Survival Rate'].values\n",
    "    )\n",
    ")"
   ]
  },
  {
   "cell_type": "markdown",
   "id": "a3746d45",
   "metadata": {},
   "source": [
    "However, the lifelines library also provides us the 95% confidence interval at each point of the curve. The actual values of the interval are shown as follows:"
   ]
  },
  {
   "cell_type": "code",
   "execution_count": 13,
   "id": "7d918ab6",
   "metadata": {
    "scrolled": true
   },
   "outputs": [
    {
     "data": {
      "text/html": [
       "<div>\n",
       "<style scoped>\n",
       "    .dataframe tbody tr th:only-of-type {\n",
       "        vertical-align: middle;\n",
       "    }\n",
       "\n",
       "    .dataframe tbody tr th {\n",
       "        vertical-align: top;\n",
       "    }\n",
       "\n",
       "    .dataframe thead th {\n",
       "        text-align: right;\n",
       "    }\n",
       "</style>\n",
       "<table border=\"1\" class=\"dataframe\">\n",
       "  <thead>\n",
       "    <tr style=\"text-align: right;\">\n",
       "      <th></th>\n",
       "      <th>Male_lower_0.95</th>\n",
       "      <th>Male_upper_0.95</th>\n",
       "    </tr>\n",
       "  </thead>\n",
       "  <tbody>\n",
       "    <tr>\n",
       "      <th>0.00</th>\n",
       "      <td>1.000000</td>\n",
       "      <td>1.000000</td>\n",
       "    </tr>\n",
       "    <tr>\n",
       "      <th>0.07</th>\n",
       "      <td>0.846155</td>\n",
       "      <td>0.996691</td>\n",
       "    </tr>\n",
       "    <tr>\n",
       "      <th>1.18</th>\n",
       "      <td>0.846155</td>\n",
       "      <td>0.996691</td>\n",
       "    </tr>\n",
       "    <tr>\n",
       "      <th>1.41</th>\n",
       "      <td>0.824563</td>\n",
       "      <td>0.988017</td>\n",
       "    </tr>\n",
       "    <tr>\n",
       "      <th>4.16</th>\n",
       "      <td>0.796010</td>\n",
       "      <td>0.976573</td>\n",
       "    </tr>\n",
       "  </tbody>\n",
       "</table>\n",
       "</div>"
      ],
      "text/plain": [
       "      Male_lower_0.95  Male_upper_0.95\n",
       "0.00         1.000000         1.000000\n",
       "0.07         0.846155         0.996691\n",
       "1.18         0.846155         0.996691\n",
       "1.41         0.824563         0.988017\n",
       "4.16         0.796010         0.976573"
      ]
     },
     "execution_count": 13,
     "metadata": {},
     "output_type": "execute_result"
    }
   ],
   "source": [
    "kmf.confidence_interval_.head()"
   ]
  },
  {
   "cell_type": "markdown",
   "id": "4746e198",
   "metadata": {},
   "source": [
    "We fit multiple survival curves for different cohorts, e.g. separated by sex:"
   ]
  },
  {
   "cell_type": "code",
   "execution_count": 14,
   "id": "fbed90c7",
   "metadata": {},
   "outputs": [
    {
     "data": {
      "image/png": "[encoded data removed]",
      "text/plain": [
       "<Figure size 432x288 with 1 Axes>"
      ]
     },
     "metadata": {
      "needs_background": "light"
     },
     "output_type": "display_data"
    }
   ],
   "source": [
    "from lifelines import KaplanMeierFitter\n",
    "kmf = KaplanMeierFitter()\n",
    "\n",
    "for name, grouped_df in df.groupby('sex'):\n",
    "    kmf.fit(grouped_df[\"time\"], grouped_df[\"status\"], label=name)\n",
    "    kmf.plot()\n",
    "\n",
    "plt.xlabel('time')\n",
    "plt.ylabel('survival probability')\n",
    "display()"
   ]
  },
  {
   "cell_type": "markdown",
   "id": "ec83fd73",
   "metadata": {},
   "source": [
    "### Cox Proportional Hazards Models"
   ]
  },
  {
   "cell_type": "markdown",
   "id": "489076c2",
   "metadata": {},
   "source": [
    "#### Hazard Function\n",
    "The Hazard function / Hazard rate is defined as:\n",
    "\n",
    "$$ H(t) = \\lim_{\\Delta t \\to 0} \\frac{P(t < T \\leq t + \\Delta t | T>t)}{\\Delta t} $$\n",
    "\n",
    "where $P(t < T \\leq t + \\Delta t | T>t)$ is the probability of the death at the time right after $t$, and $H(t)$ denotes the death rate. It can be proved that:\n",
    "\n",
    "$$ H(t) = f(t)/S(t) $$\n",
    "\n",
    "where f(t) is the PDF of T.\n",
    "\n",
    "#### Fitting Cox Proportional Hazards Models\n",
    "\n",
    "The Proportional Hazards Assumption:\n",
    "$$ h(t|x_i) = h_0(t) exp(\\sum_{j=1}^p x_{ij} \\beta_j) $$\n",
    "\n",
    "where $h_0(t) \\geq 0$ is an unspecified function, known as the baseline hazard, $p$ denotes the number of predictors, $x_i$ denote the covariate $x$ of the $i^{th}$ example.\n",
    "\n",
    "$exp(\\sum_{j=1}^p x_{ij} \\beta_j)$ is the relative risk of the $i^{th}$ example over the risk of an example with $x_{ij}=0$ for all $j$.\n",
    "\n",
    "One unit increment in $x_{ij}$ leads to an increment in $h(t|x_i)$ by a factor of $exp(\\beta_j)$.\n",
    "\n",
    "If the assumption is true, the graph of the survival function over time should be with parallel curves, i.e. hazards can change over time, but their ratio between levels of predictors remains constant.\n",
    "\n",
    "Objective: Minimize the following partial likelihood with respect to $\\beta$: \n",
    "$$\\Pi_{i:\\delta_i=1} \\frac{exp(\\sum_{j=1}^p x_{ij}\\beta_j)}{\\sum_{i':y_{i'} \\geq {y_i}} exp(\\sum_{j=1}^p x_{i'j}\\beta_j)}$$\n",
    "\n",
    "The partial likelihood only involved non-cencored subjects. \n",
    "- The numerator represents the partial hazards of the subject who died at time $y_i$\n",
    "- The denominator represents the partial hazards of all the subjects who at risk at time $y_i$"
   ]
  },
  {
   "cell_type": "code",
   "execution_count": 26,
   "id": "238d69b9",
   "metadata": {},
   "outputs": [],
   "source": [
    "df_cph = df[['time','status','sex','ki','gtv']].copy()\n",
    "df_cph['sex'] = (df_cph['sex']=='Male').astype(np.int8)"
   ]
  },
  {
   "cell_type": "markdown",
   "id": "e38bee84",
   "metadata": {},
   "source": [
    "Using sex only:"
   ]
  },
  {
   "cell_type": "code",
   "execution_count": 29,
   "id": "c5ca4656",
   "metadata": {
    "scrolled": true
   },
   "outputs": [
    {
     "data": {
      "text/html": [
       "<div>\n",
       "<style scoped>\n",
       "    .dataframe tbody tr th:only-of-type {\n",
       "        vertical-align: middle;\n",
       "    }\n",
       "\n",
       "    .dataframe tbody tr th {\n",
       "        vertical-align: top;\n",
       "    }\n",
       "\n",
       "    .dataframe thead th {\n",
       "        text-align: right;\n",
       "    }\n",
       "</style>\n",
       "<table border=\"1\" class=\"dataframe\">\n",
       "  <tbody>\n",
       "    <tr>\n",
       "      <th>model</th>\n",
       "      <td>lifelines.CoxPHFitter</td>\n",
       "    </tr>\n",
       "    <tr>\n",
       "      <th>duration col</th>\n",
       "      <td>'time'</td>\n",
       "    </tr>\n",
       "    <tr>\n",
       "      <th>event col</th>\n",
       "      <td>'status'</td>\n",
       "    </tr>\n",
       "    <tr>\n",
       "      <th>baseline estimation</th>\n",
       "      <td>breslow</td>\n",
       "    </tr>\n",
       "    <tr>\n",
       "      <th>number of observations</th>\n",
       "      <td>88</td>\n",
       "    </tr>\n",
       "    <tr>\n",
       "      <th>number of events observed</th>\n",
       "      <td>35</td>\n",
       "    </tr>\n",
       "    <tr>\n",
       "      <th>partial log-likelihood</th>\n",
       "      <td>-137.43</td>\n",
       "    </tr>\n",
       "    <tr>\n",
       "      <th>time fit was run</th>\n",
       "      <td>2021-11-28 08:04:49 UTC</td>\n",
       "    </tr>\n",
       "  </tbody>\n",
       "</table>\n",
       "</div><table border=\"1\" class=\"dataframe\">\n",
       "  <thead>\n",
       "    <tr style=\"text-align: right;\">\n",
       "      <th style=\"min-width: 12px;\"></th>\n",
       "      <th style=\"min-width: 12px;\">coef</th>\n",
       "      <th style=\"min-width: 12px;\">exp(coef)</th>\n",
       "      <th style=\"min-width: 12px;\">se(coef)</th>\n",
       "      <th style=\"min-width: 12px;\">coef lower 95%</th>\n",
       "      <th style=\"min-width: 12px;\">coef upper 95%</th>\n",
       "      <th style=\"min-width: 12px;\">exp(coef) lower 95%</th>\n",
       "      <th style=\"min-width: 12px;\">exp(coef) upper 95%</th>\n",
       "      <th style=\"min-width: 12px;\">z</th>\n",
       "      <th style=\"min-width: 12px;\">p</th>\n",
       "      <th style=\"min-width: 12px;\">-log2(p)</th>\n",
       "    </tr>\n",
       "  </thead>\n",
       "  <tbody>\n",
       "    <tr>\n",
       "      <th>sex</th>\n",
       "      <td>0.41</td>\n",
       "      <td>1.50</td>\n",
       "      <td>0.34</td>\n",
       "      <td>-0.26</td>\n",
       "      <td>1.08</td>\n",
       "      <td>0.77</td>\n",
       "      <td>2.94</td>\n",
       "      <td>1.19</td>\n",
       "      <td>0.23</td>\n",
       "      <td>2.10</td>\n",
       "    </tr>\n",
       "  </tbody>\n",
       "</table><br><div>\n",
       "<style scoped>\n",
       "    .dataframe tbody tr th:only-of-type {\n",
       "        vertical-align: middle;\n",
       "    }\n",
       "\n",
       "    .dataframe tbody tr th {\n",
       "        vertical-align: top;\n",
       "    }\n",
       "\n",
       "    .dataframe thead th {\n",
       "        text-align: right;\n",
       "    }\n",
       "</style>\n",
       "<table border=\"1\" class=\"dataframe\">\n",
       "  <tbody>\n",
       "    <tr>\n",
       "      <th>Concordance</th>\n",
       "      <td>0.56</td>\n",
       "    </tr>\n",
       "    <tr>\n",
       "      <th>Partial AIC</th>\n",
       "      <td>276.86</td>\n",
       "    </tr>\n",
       "    <tr>\n",
       "      <th>log-likelihood ratio test</th>\n",
       "      <td>1.44 on 1 df</td>\n",
       "    </tr>\n",
       "    <tr>\n",
       "      <th>-log2(p) of ll-ratio test</th>\n",
       "      <td>2.12</td>\n",
       "    </tr>\n",
       "  </tbody>\n",
       "</table>\n",
       "</div>"
      ],
      "text/latex": [
       "\\begin{tabular}{lrrrrrrrrrr}\n",
       "\\toprule\n",
       "{} &  coef &  exp(coef) &  se(coef) &  coef lower 95\\% &  coef upper 95\\% &  exp(coef) lower 95\\% &  exp(coef) upper 95\\% &    z &    p &  -log2(p) \\\\\n",
       "covariate &       &            &           &                 &                 &                      &                      &      &      &           \\\\\n",
       "\\midrule\n",
       "sex       &  0.41 &       1.50 &      0.34 &           -0.26 &            1.08 &                 0.77 &                 2.94 & 1.19 & 0.23 &      2.10 \\\\\n",
       "\\bottomrule\n",
       "\\end{tabular}\n"
      ],
      "text/plain": [
       "<lifelines.CoxPHFitter: fitted with 88 total observations, 53 right-censored observations>\n",
       "             duration col = 'time'\n",
       "                event col = 'status'\n",
       "      baseline estimation = breslow\n",
       "   number of observations = 88\n",
       "number of events observed = 35\n",
       "   partial log-likelihood = -137.43\n",
       "         time fit was run = 2021-11-28 08:04:49 UTC\n",
       "\n",
       "---\n",
       "            coef  exp(coef)   se(coef)   coef lower 95%   coef upper 95%  exp(coef) lower 95%  exp(coef) upper 95%\n",
       "covariate                                                                                                         \n",
       "sex         0.41       1.50       0.34            -0.26             1.08                 0.77                 2.94\n",
       "\n",
       "             z    p   -log2(p)\n",
       "covariate                     \n",
       "sex       1.19 0.23       2.10\n",
       "---\n",
       "Concordance = 0.56\n",
       "Partial AIC = 276.86\n",
       "log-likelihood ratio test = 1.44 on 1 df\n",
       "-log2(p) of ll-ratio test = 2.12"
      ]
     },
     "metadata": {},
     "output_type": "display_data"
    }
   ],
   "source": [
    "cph = CoxPHFitter()\n",
    "cph.fit(df_cph, duration_col='time', event_col='status',  formula=\"sex\")\n",
    "cph.print_summary()"
   ]
  },
  {
   "cell_type": "markdown",
   "id": "b3f13488",
   "metadata": {},
   "source": [
    "Using sex, ki, and gtv:"
   ]
  },
  {
   "cell_type": "code",
   "execution_count": 30,
   "id": "a68313ae",
   "metadata": {
    "scrolled": true
   },
   "outputs": [
    {
     "data": {
      "text/html": [
       "<div>\n",
       "<style scoped>\n",
       "    .dataframe tbody tr th:only-of-type {\n",
       "        vertical-align: middle;\n",
       "    }\n",
       "\n",
       "    .dataframe tbody tr th {\n",
       "        vertical-align: top;\n",
       "    }\n",
       "\n",
       "    .dataframe thead th {\n",
       "        text-align: right;\n",
       "    }\n",
       "</style>\n",
       "<table border=\"1\" class=\"dataframe\">\n",
       "  <tbody>\n",
       "    <tr>\n",
       "      <th>model</th>\n",
       "      <td>lifelines.CoxPHFitter</td>\n",
       "    </tr>\n",
       "    <tr>\n",
       "      <th>duration col</th>\n",
       "      <td>'time'</td>\n",
       "    </tr>\n",
       "    <tr>\n",
       "      <th>event col</th>\n",
       "      <td>'status'</td>\n",
       "    </tr>\n",
       "    <tr>\n",
       "      <th>baseline estimation</th>\n",
       "      <td>breslow</td>\n",
       "    </tr>\n",
       "    <tr>\n",
       "      <th>number of observations</th>\n",
       "      <td>88</td>\n",
       "    </tr>\n",
       "    <tr>\n",
       "      <th>number of events observed</th>\n",
       "      <td>35</td>\n",
       "    </tr>\n",
       "    <tr>\n",
       "      <th>partial log-likelihood</th>\n",
       "      <td>-131.15</td>\n",
       "    </tr>\n",
       "    <tr>\n",
       "      <th>time fit was run</th>\n",
       "      <td>2021-11-28 08:05:37 UTC</td>\n",
       "    </tr>\n",
       "  </tbody>\n",
       "</table>\n",
       "</div><table border=\"1\" class=\"dataframe\">\n",
       "  <thead>\n",
       "    <tr style=\"text-align: right;\">\n",
       "      <th style=\"min-width: 12px;\"></th>\n",
       "      <th style=\"min-width: 12px;\">coef</th>\n",
       "      <th style=\"min-width: 12px;\">exp(coef)</th>\n",
       "      <th style=\"min-width: 12px;\">se(coef)</th>\n",
       "      <th style=\"min-width: 12px;\">coef lower 95%</th>\n",
       "      <th style=\"min-width: 12px;\">coef upper 95%</th>\n",
       "      <th style=\"min-width: 12px;\">exp(coef) lower 95%</th>\n",
       "      <th style=\"min-width: 12px;\">exp(coef) upper 95%</th>\n",
       "      <th style=\"min-width: 12px;\">z</th>\n",
       "      <th style=\"min-width: 12px;\">p</th>\n",
       "      <th style=\"min-width: 12px;\">-log2(p)</th>\n",
       "    </tr>\n",
       "  </thead>\n",
       "  <tbody>\n",
       "    <tr>\n",
       "      <th>gtv</th>\n",
       "      <td>0.04</td>\n",
       "      <td>1.04</td>\n",
       "      <td>0.02</td>\n",
       "      <td>0.00</td>\n",
       "      <td>0.07</td>\n",
       "      <td>1.00</td>\n",
       "      <td>1.07</td>\n",
       "      <td>2.08</td>\n",
       "      <td>0.04</td>\n",
       "      <td>4.72</td>\n",
       "    </tr>\n",
       "    <tr>\n",
       "      <th>ki</th>\n",
       "      <td>-0.04</td>\n",
       "      <td>0.96</td>\n",
       "      <td>0.02</td>\n",
       "      <td>-0.07</td>\n",
       "      <td>-0.01</td>\n",
       "      <td>0.93</td>\n",
       "      <td>0.99</td>\n",
       "      <td>-2.50</td>\n",
       "      <td>0.01</td>\n",
       "      <td>6.32</td>\n",
       "    </tr>\n",
       "    <tr>\n",
       "      <th>sex</th>\n",
       "      <td>0.40</td>\n",
       "      <td>1.49</td>\n",
       "      <td>0.34</td>\n",
       "      <td>-0.28</td>\n",
       "      <td>1.07</td>\n",
       "      <td>0.76</td>\n",
       "      <td>2.91</td>\n",
       "      <td>1.15</td>\n",
       "      <td>0.25</td>\n",
       "      <td>2.01</td>\n",
       "    </tr>\n",
       "  </tbody>\n",
       "</table><br><div>\n",
       "<style scoped>\n",
       "    .dataframe tbody tr th:only-of-type {\n",
       "        vertical-align: middle;\n",
       "    }\n",
       "\n",
       "    .dataframe tbody tr th {\n",
       "        vertical-align: top;\n",
       "    }\n",
       "\n",
       "    .dataframe thead th {\n",
       "        text-align: right;\n",
       "    }\n",
       "</style>\n",
       "<table border=\"1\" class=\"dataframe\">\n",
       "  <tbody>\n",
       "    <tr>\n",
       "      <th>Concordance</th>\n",
       "      <td>0.67</td>\n",
       "    </tr>\n",
       "    <tr>\n",
       "      <th>Partial AIC</th>\n",
       "      <td>268.30</td>\n",
       "    </tr>\n",
       "    <tr>\n",
       "      <th>log-likelihood ratio test</th>\n",
       "      <td>14.00 on 3 df</td>\n",
       "    </tr>\n",
       "    <tr>\n",
       "      <th>-log2(p) of ll-ratio test</th>\n",
       "      <td>8.43</td>\n",
       "    </tr>\n",
       "  </tbody>\n",
       "</table>\n",
       "</div>"
      ],
      "text/latex": [
       "\\begin{tabular}{lrrrrrrrrrr}\n",
       "\\toprule\n",
       "{} &  coef &  exp(coef) &  se(coef) &  coef lower 95\\% &  coef upper 95\\% &  exp(coef) lower 95\\% &  exp(coef) upper 95\\% &     z &    p &  -log2(p) \\\\\n",
       "covariate &       &            &           &                 &                 &                      &                      &       &      &           \\\\\n",
       "\\midrule\n",
       "gtv       &  0.04 &       1.04 &      0.02 &            0.00 &            0.07 &                 1.00 &                 1.07 &  2.08 & 0.04 &      4.72 \\\\\n",
       "ki        & -0.04 &       0.96 &      0.02 &           -0.07 &           -0.01 &                 0.93 &                 0.99 & -2.50 & 0.01 &      6.32 \\\\\n",
       "sex       &  0.40 &       1.49 &      0.34 &           -0.28 &            1.07 &                 0.76 &                 2.91 &  1.15 & 0.25 &      2.01 \\\\\n",
       "\\bottomrule\n",
       "\\end{tabular}\n"
      ],
      "text/plain": [
       "<lifelines.CoxPHFitter: fitted with 88 total observations, 53 right-censored observations>\n",
       "             duration col = 'time'\n",
       "                event col = 'status'\n",
       "      baseline estimation = breslow\n",
       "   number of observations = 88\n",
       "number of events observed = 35\n",
       "   partial log-likelihood = -131.15\n",
       "         time fit was run = 2021-11-28 08:05:37 UTC\n",
       "\n",
       "---\n",
       "            coef  exp(coef)   se(coef)   coef lower 95%   coef upper 95%  exp(coef) lower 95%  exp(coef) upper 95%\n",
       "covariate                                                                                                         \n",
       "gtv         0.04       1.04       0.02             0.00             0.07                 1.00                 1.07\n",
       "ki         -0.04       0.96       0.02            -0.07            -0.01                 0.93                 0.99\n",
       "sex         0.40       1.49       0.34            -0.28             1.07                 0.76                 2.91\n",
       "\n",
       "              z    p   -log2(p)\n",
       "covariate                      \n",
       "gtv        2.08 0.04       4.72\n",
       "ki        -2.50 0.01       6.32\n",
       "sex        1.15 0.25       2.01\n",
       "---\n",
       "Concordance = 0.67\n",
       "Partial AIC = 268.30\n",
       "log-likelihood ratio test = 14.00 on 3 df\n",
       "-log2(p) of ll-ratio test = 8.43"
      ]
     },
     "metadata": {},
     "output_type": "display_data"
    }
   ],
   "source": [
    "cph = CoxPHFitter()\n",
    "cph.fit(df_cph, duration_col='time', event_col='status',  formula=\"sex + ki + gtv\")\n",
    "\n",
    "cph.print_summary()  # access the individual results using cph.summary"
   ]
  },
  {
   "cell_type": "markdown",
   "id": "e2749835",
   "metadata": {},
   "source": [
    "#### Testing the Proportional Hazards Assumption"
   ]
  },
  {
   "cell_type": "markdown",
   "id": "46ddcc88",
   "metadata": {},
   "source": [
    "The Null Hypothesis is the Proportional Hazards Assumption holds:"
   ]
  },
  {
   "cell_type": "code",
   "execution_count": 82,
   "id": "0231c0cc",
   "metadata": {
    "scrolled": true
   },
   "outputs": [
    {
     "name": "stdout",
     "output_type": "stream",
     "text": [
      "Proportional hazard assumption looks okay.\n"
     ]
    },
    {
     "name": "stderr",
     "output_type": "stream",
     "text": [
      "C:\\Users\\css91\\anaconda3\\lib\\site-packages\\lifelines\\fitters\\mixins.py:108: FutureWarning: Index.__and__ operating as a set operation is deprecated, in the future this will be a logical operation matching Series.__and__.  Use index.intersection(other) instead\n",
      "  for variable in self.params_.index & (columns or self.params_.index):\n"
     ]
    },
    {
     "data": {
      "text/plain": [
       "[]"
      ]
     },
     "execution_count": 82,
     "metadata": {},
     "output_type": "execute_result"
    }
   ],
   "source": [
    "cph.check_assumptions(df_cph, show_plots=True, columns=['sex','ki','gtv'])"
   ]
  },
  {
   "cell_type": "code",
   "execution_count": 33,
   "id": "3112a049",
   "metadata": {
    "scrolled": false
   },
   "outputs": [
    {
     "data": {
      "text/html": [
       "<div>\n",
       "<style scoped>\n",
       "    .dataframe tbody tr th:only-of-type {\n",
       "        vertical-align: middle;\n",
       "    }\n",
       "\n",
       "    .dataframe tbody tr th {\n",
       "        vertical-align: top;\n",
       "    }\n",
       "\n",
       "    .dataframe thead th {\n",
       "        text-align: right;\n",
       "    }\n",
       "</style>\n",
       "<table border=\"1\" class=\"dataframe\">\n",
       "  <tbody>\n",
       "    <tr>\n",
       "      <th>time_transform</th>\n",
       "      <td>rank</td>\n",
       "    </tr>\n",
       "    <tr>\n",
       "      <th>null_distribution</th>\n",
       "      <td>chi squared</td>\n",
       "    </tr>\n",
       "    <tr>\n",
       "      <th>degrees_of_freedom</th>\n",
       "      <td>1</td>\n",
       "    </tr>\n",
       "    <tr>\n",
       "      <th>model</th>\n",
       "      <td>&lt;lifelines.CoxPHFitter: fitted with 88 total o...</td>\n",
       "    </tr>\n",
       "    <tr>\n",
       "      <th>test_name</th>\n",
       "      <td>proportional_hazard_test</td>\n",
       "    </tr>\n",
       "  </tbody>\n",
       "</table>\n",
       "</div><table border=\"1\" class=\"dataframe\">\n",
       "  <thead>\n",
       "    <tr style=\"text-align: right;\">\n",
       "      <th></th>\n",
       "      <th>test_statistic</th>\n",
       "      <th>p</th>\n",
       "      <th>-log2(p)</th>\n",
       "    </tr>\n",
       "  </thead>\n",
       "  <tbody>\n",
       "    <tr>\n",
       "      <th>gtv</th>\n",
       "      <td>0.16</td>\n",
       "      <td>0.69</td>\n",
       "      <td>0.55</td>\n",
       "    </tr>\n",
       "    <tr>\n",
       "      <th>ki</th>\n",
       "      <td>0.09</td>\n",
       "      <td>0.77</td>\n",
       "      <td>0.39</td>\n",
       "    </tr>\n",
       "    <tr>\n",
       "      <th>sex</th>\n",
       "      <td>0.29</td>\n",
       "      <td>0.59</td>\n",
       "      <td>0.76</td>\n",
       "    </tr>\n",
       "  </tbody>\n",
       "</table>"
      ],
      "text/latex": [
       "\\begin{tabular}{lrrr}\n",
       "\\toprule\n",
       "{} &  test\\_statistic &         p &  -log2(p) \\\\\n",
       "\\midrule\n",
       "gtv &        0.164237 &  0.685285 &  0.545223 \\\\\n",
       "ki  &        0.088896 &  0.765585 &  0.385365 \\\\\n",
       "sex &        0.291861 &  0.589031 &  0.763585 \\\\\n",
       "\\bottomrule\n",
       "\\end{tabular}\n"
      ],
      "text/plain": [
       "<lifelines.StatisticalResult: proportional_hazard_test>\n",
       "    time_transform = rank\n",
       " null_distribution = chi squared\n",
       "degrees_of_freedom = 1\n",
       "             model = <lifelines.CoxPHFitter: fitted with 88 total observations, 53 right-censored observations>\n",
       "         test_name = proportional_hazard_test\n",
       "\n",
       "---\n",
       "     test_statistic    p  -log2(p)\n",
       "gtv            0.16 0.69      0.55\n",
       "ki             0.09 0.77      0.39\n",
       "sex            0.29 0.59      0.76"
      ]
     },
     "execution_count": 33,
     "metadata": {},
     "output_type": "execute_result"
    }
   ],
   "source": [
    "proportional_hazard_test(cph, df_cph)"
   ]
  },
  {
   "cell_type": "markdown",
   "id": "7d501b34",
   "metadata": {},
   "source": [
    "#### Prediction of Cox Proportional Hazards Models"
   ]
  },
  {
   "cell_type": "markdown",
   "id": "c0c7bcd8",
   "metadata": {},
   "source": [
    "##### Predict on all examples"
   ]
  },
  {
   "cell_type": "markdown",
   "id": "36d79ef6",
   "metadata": {},
   "source": [
    "Predict the survival function of each individual:"
   ]
  },
  {
   "cell_type": "code",
   "execution_count": 56,
   "id": "b3728482",
   "metadata": {
    "scrolled": true
   },
   "outputs": [
    {
     "data": {
      "text/html": [
       "<div>\n",
       "<style scoped>\n",
       "    .dataframe tbody tr th:only-of-type {\n",
       "        vertical-align: middle;\n",
       "    }\n",
       "\n",
       "    .dataframe tbody tr th {\n",
       "        vertical-align: top;\n",
       "    }\n",
       "\n",
       "    .dataframe thead th {\n",
       "        text-align: right;\n",
       "    }\n",
       "</style>\n",
       "<table border=\"1\" class=\"dataframe\">\n",
       "  <thead>\n",
       "    <tr style=\"text-align: right;\">\n",
       "      <th></th>\n",
       "      <th>0</th>\n",
       "      <th>1</th>\n",
       "      <th>2</th>\n",
       "      <th>3</th>\n",
       "      <th>4</th>\n",
       "      <th>5</th>\n",
       "    </tr>\n",
       "  </thead>\n",
       "  <tbody>\n",
       "    <tr>\n",
       "      <th>0.07</th>\n",
       "      <td>0.957452</td>\n",
       "      <td>0.983443</td>\n",
       "      <td>0.987130</td>\n",
       "      <td>0.990663</td>\n",
       "      <td>0.994146</td>\n",
       "      <td>0.933596</td>\n",
       "    </tr>\n",
       "    <tr>\n",
       "      <th>1.18</th>\n",
       "      <td>0.957452</td>\n",
       "      <td>0.983443</td>\n",
       "      <td>0.987130</td>\n",
       "      <td>0.990663</td>\n",
       "      <td>0.994146</td>\n",
       "      <td>0.933596</td>\n",
       "    </tr>\n",
       "    <tr>\n",
       "      <th>1.41</th>\n",
       "      <td>0.914167</td>\n",
       "      <td>0.966127</td>\n",
       "      <td>0.973618</td>\n",
       "      <td>0.980823</td>\n",
       "      <td>0.987954</td>\n",
       "      <td>0.867776</td>\n",
       "    </tr>\n",
       "    <tr>\n",
       "      <th>1.54</th>\n",
       "      <td>0.914167</td>\n",
       "      <td>0.966127</td>\n",
       "      <td>0.973618</td>\n",
       "      <td>0.980823</td>\n",
       "      <td>0.987954</td>\n",
       "      <td>0.867776</td>\n",
       "    </tr>\n",
       "    <tr>\n",
       "      <th>2.03</th>\n",
       "      <td>0.914167</td>\n",
       "      <td>0.966127</td>\n",
       "      <td>0.973618</td>\n",
       "      <td>0.980823</td>\n",
       "      <td>0.987954</td>\n",
       "      <td>0.867776</td>\n",
       "    </tr>\n",
       "    <tr>\n",
       "      <th>3.38</th>\n",
       "      <td>0.871589</td>\n",
       "      <td>0.948594</td>\n",
       "      <td>0.959881</td>\n",
       "      <td>0.970782</td>\n",
       "      <td>0.981611</td>\n",
       "      <td>0.804773</td>\n",
       "    </tr>\n",
       "    <tr>\n",
       "      <th>4.16</th>\n",
       "      <td>0.827770</td>\n",
       "      <td>0.929990</td>\n",
       "      <td>0.945243</td>\n",
       "      <td>0.960038</td>\n",
       "      <td>0.974797</td>\n",
       "      <td>0.741773</td>\n",
       "    </tr>\n",
       "    <tr>\n",
       "      <th>4.56</th>\n",
       "      <td>0.785513</td>\n",
       "      <td>0.911466</td>\n",
       "      <td>0.930601</td>\n",
       "      <td>0.949245</td>\n",
       "      <td>0.967924</td>\n",
       "      <td>0.682824</td>\n",
       "    </tr>\n",
       "  </tbody>\n",
       "</table>\n",
       "</div>"
      ],
      "text/plain": [
       "             0         1         2         3         4         5\n",
       "0.07  0.957452  0.983443  0.987130  0.990663  0.994146  0.933596\n",
       "1.18  0.957452  0.983443  0.987130  0.990663  0.994146  0.933596\n",
       "1.41  0.914167  0.966127  0.973618  0.980823  0.987954  0.867776\n",
       "1.54  0.914167  0.966127  0.973618  0.980823  0.987954  0.867776\n",
       "2.03  0.914167  0.966127  0.973618  0.980823  0.987954  0.867776\n",
       "3.38  0.871589  0.948594  0.959881  0.970782  0.981611  0.804773\n",
       "4.16  0.827770  0.929990  0.945243  0.960038  0.974797  0.741773\n",
       "4.56  0.785513  0.911466  0.930601  0.949245  0.967924  0.682824"
      ]
     },
     "execution_count": 56,
     "metadata": {},
     "output_type": "execute_result"
    }
   ],
   "source": [
    "cph.predict_survival_function(df).loc[0:5,0:5]"
   ]
  },
  {
   "cell_type": "markdown",
   "id": "a2c4ab53",
   "metadata": {},
   "source": [
    "Predict expected lifetime $\\int_0^{inf} S(t)dt$"
   ]
  },
  {
   "cell_type": "code",
   "execution_count": 68,
   "id": "10dac02a",
   "metadata": {},
   "outputs": [
    {
     "data": {
      "text/plain": [
       "0    14.298644\n",
       "1    34.994138\n",
       "2    41.505947\n",
       "3    49.423428\n",
       "4    59.325629\n",
       "dtype: float64"
      ]
     },
     "execution_count": 68,
     "metadata": {},
     "output_type": "execute_result"
    }
   ],
   "source": [
    "cph.predict_expectation(df).head()"
   ]
  },
  {
   "cell_type": "markdown",
   "id": "9e0f2328",
   "metadata": {},
   "source": [
    "Predict the time when the survival probability is $p$:"
   ]
  },
  {
   "cell_type": "code",
   "execution_count": 64,
   "id": "773a9079",
   "metadata": {},
   "outputs": [
    {
     "data": {
      "text/plain": [
       "0     7.25\n",
       "1    29.70\n",
       "2    33.41\n",
       "3    47.80\n",
       "4      inf\n",
       "Name: 0.5, dtype: float64"
      ]
     },
     "execution_count": 64,
     "metadata": {},
     "output_type": "execute_result"
    }
   ],
   "source": [
    "cph.predict_percentile(df, p=0.5).head()"
   ]
  },
  {
   "cell_type": "code",
   "execution_count": 65,
   "id": "0964702c",
   "metadata": {
    "scrolled": false
   },
   "outputs": [
    {
     "data": {
      "text/plain": [
       "0     7.25\n",
       "1    29.70\n",
       "2    33.41\n",
       "3    47.80\n",
       "4      inf\n",
       "Name: 0.5, dtype: float64"
      ]
     },
     "execution_count": 65,
     "metadata": {},
     "output_type": "execute_result"
    }
   ],
   "source": [
    "cph.predict_median(df).head()"
   ]
  },
  {
   "cell_type": "markdown",
   "id": "e8863bfe",
   "metadata": {},
   "source": [
    "Predict the partial hazard ($h_0(t)$ is not included): $exp(\\sum_{j=1}^p x_{ij} \\beta_j)$"
   ]
  },
  {
   "cell_type": "code",
   "execution_count": 50,
   "id": "5fa45bc8",
   "metadata": {
    "scrolled": true
   },
   "outputs": [
    {
     "data": {
      "text/plain": [
       "0     4.899800\n",
       "1     1.881459\n",
       "2     1.459769\n",
       "3     1.057180\n",
       "4     0.661678\n",
       "        ...   \n",
       "83    0.489545\n",
       "84    1.106310\n",
       "85    0.682066\n",
       "86    1.321862\n",
       "87    0.910567\n",
       "Length: 88, dtype: float64"
      ]
     },
     "execution_count": 50,
     "metadata": {},
     "output_type": "execute_result"
    }
   ],
   "source": [
    "cph.predict_partial_hazard(df)"
   ]
  },
  {
   "cell_type": "markdown",
   "id": "0fd93026",
   "metadata": {},
   "source": [
    "##### Predict on censored examples\n",
    "\n",
    "The aim is to predict a subject’s new survival function given that the subject has lived past time:\n",
    "\n",
    "\\begin{equation*}\n",
    "P(T>t|T>s) = \\frac {P(T>t \\cap T>s)}{P(T>s)}\n",
    "= \\frac {P(T>t)}{P(T>s)}\n",
    "= \\frac{S(t)}{S(s)}\n",
    "\\end{equation*}"
   ]
  },
  {
   "cell_type": "code",
   "execution_count": 81,
   "id": "6fff9822",
   "metadata": {},
   "outputs": [
    {
     "data": {
      "text/html": [
       "<div>\n",
       "<style scoped>\n",
       "    .dataframe tbody tr th:only-of-type {\n",
       "        vertical-align: middle;\n",
       "    }\n",
       "\n",
       "    .dataframe tbody tr th {\n",
       "        vertical-align: top;\n",
       "    }\n",
       "\n",
       "    .dataframe thead th {\n",
       "        text-align: right;\n",
       "    }\n",
       "</style>\n",
       "<table border=\"1\" class=\"dataframe\">\n",
       "  <thead>\n",
       "    <tr style=\"text-align: right;\">\n",
       "      <th></th>\n",
       "      <th>1</th>\n",
       "      <th>3</th>\n",
       "      <th>4</th>\n",
       "    </tr>\n",
       "  </thead>\n",
       "  <tbody>\n",
       "    <tr>\n",
       "      <th>0.07</th>\n",
       "      <td>0.994608</td>\n",
       "      <td>1.000000</td>\n",
       "      <td>0.999666</td>\n",
       "    </tr>\n",
       "    <tr>\n",
       "      <th>1.18</th>\n",
       "      <td>0.978004</td>\n",
       "      <td>0.994754</td>\n",
       "      <td>0.994386</td>\n",
       "    </tr>\n",
       "    <tr>\n",
       "      <th>1.41</th>\n",
       "      <td>0.974958</td>\n",
       "      <td>0.993012</td>\n",
       "      <td>0.993048</td>\n",
       "    </tr>\n",
       "    <tr>\n",
       "      <th>1.54</th>\n",
       "      <td>0.973240</td>\n",
       "      <td>0.992028</td>\n",
       "      <td>0.991895</td>\n",
       "    </tr>\n",
       "    <tr>\n",
       "      <th>2.03</th>\n",
       "      <td>0.966792</td>\n",
       "      <td>0.987083</td>\n",
       "      <td>0.987564</td>\n",
       "    </tr>\n",
       "    <tr>\n",
       "      <th>3.38</th>\n",
       "      <td>0.926811</td>\n",
       "      <td>0.967804</td>\n",
       "      <td>0.979726</td>\n",
       "    </tr>\n",
       "    <tr>\n",
       "      <th>4.16</th>\n",
       "      <td>0.926811</td>\n",
       "      <td>0.964126</td>\n",
       "      <td>0.967496</td>\n",
       "    </tr>\n",
       "    <tr>\n",
       "      <th>4.56</th>\n",
       "      <td>0.919239</td>\n",
       "      <td>0.956428</td>\n",
       "      <td>0.947364</td>\n",
       "    </tr>\n",
       "  </tbody>\n",
       "</table>\n",
       "</div>"
      ],
      "text/plain": [
       "             1         3         4\n",
       "0.07  0.994608  1.000000  0.999666\n",
       "1.18  0.978004  0.994754  0.994386\n",
       "1.41  0.974958  0.993012  0.993048\n",
       "1.54  0.973240  0.992028  0.991895\n",
       "2.03  0.966792  0.987083  0.987564\n",
       "3.38  0.926811  0.967804  0.979726\n",
       "4.16  0.926811  0.964126  0.967496\n",
       "4.56  0.919239  0.956428  0.947364"
      ]
     },
     "execution_count": 81,
     "metadata": {},
     "output_type": "execute_result"
    }
   ],
   "source": [
    "censored_subjects = df.loc[~df['status'].astype(bool)]\n",
    "censored_subjects_last_obs = censored_subjects['time']\n",
    "\n",
    "cph.predict_survival_function(censored_subjects, conditional_after=censored_subjects_last_obs).loc[0:5,0:5]"
   ]
  },
  {
   "cell_type": "markdown",
   "id": "cc71f811",
   "metadata": {},
   "source": [
    "### References\n",
    "\n",
    "[1] Selingerov´a et al. (2016) Survival of patients with primary brain tumors: Comparison of two statistical approaches. PLoS One, 11(2):e0148733.\n",
    "\n",
    "[2] James, G., Witten, D., Hastie, T., & Tibshirani, R. (2013). An introduction to statistical learning, 112(18).\n",
    "\n",
    "[3] Davidson-Pilon, C. et al. CamDavidsonPilon/lifelines: v0.21.0. (2019) https://doi.org/10.5281/ZENODO.2638135."
   ]
  }
 ],
 "metadata": {
  "kernelspec": {
   "display_name": "Python 3",
   "language": "python",
   "name": "python3"
  },
  "language_info": {
   "codemirror_mode": {
    "name": "ipython",
    "version": 3
   },
   "file_extension": ".py",
   "mimetype": "text/x-python",
   "name": "python",
   "nbconvert_exporter": "python",
   "pygments_lexer": "ipython3",
   "version": "3.8.8"
  },
  "toc": {
   "base_numbering": 1,
   "nav_menu": {},
   "number_sections": true,
   "sideBar": true,
   "skip_h1_title": false,
   "title_cell": "Table of Contents",
   "title_sidebar": "Contents",
   "toc_cell": false,
   "toc_position": {},
   "toc_section_display": true,
   "toc_window_display": false
  }
 },
 "nbformat": 4,
 "nbformat_minor": 5
}
