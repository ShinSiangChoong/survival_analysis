{
 "cells": [
  {
   "cell_type": "markdown",
   "id": "722f6a8e",
   "metadata": {},
   "source": [
    "## Survival Analysis\n",
    "- A popular topic in Applied Data Science is called survival analysis, a.k.a churn analysis. A survival analysis is the analysis of a special type of outcome variable i.e., the time until an event occurs. The event can be death, subscription cancellation, etc. \n",
    "\n",
    "- The survival curve, or survival function, is defined as $S(t) = P(T>t)$, where $T$ is the actual survival time.\n",
    "- $S(t)$ indicates the probability that the subject survives at least up to time $t$. \n",
    "- This notebook employs the BrainCancer datasets [1] as an example to summaries some basic concepts of survival analysis. Please refer to [2] for more details about those concepts."
   ]
  },
  {
   "cell_type": "code",
   "execution_count": 1,
   "id": "263d85f3",
   "metadata": {},
   "outputs": [],
   "source": [
    "import pandas as pd\n",
    "import numpy as np\n",
    "import matplotlib.pyplot as plt\n",
    "from lifelines import KaplanMeierFitter"
   ]
  },
  {
   "cell_type": "code",
   "execution_count": 2,
   "id": "5bdef158",
   "metadata": {},
   "outputs": [],
   "source": [
    "df = pd.read_csv('brain_cancer.csv')\n",
    "df['_id'] = df.index"
   ]
  },
  {
   "cell_type": "markdown",
   "id": "cbc89790",
   "metadata": {},
   "source": [
    "### Kaplan-Meier Survival Curve"
   ]
  },
  {
   "cell_type": "markdown",
   "id": "00c7dc75",
   "metadata": {},
   "source": [
    "#### Manual Calculation of Kaplan-Meier Survival Curve\n",
    "\n",
    "Let $d_1 < d_2 < · · · < d_k$ denote the $k$ unique death times among the noncensored subjects, by Law of Total Probability,\n",
    "$$ P(T>d_k) = P(T>d_k|T>d_{k-1})P(T>d_{k-1}) + P(T>d_k|T \\leq d_{k-1})P(T \\leq d_{k-1}) $$\n",
    "\n",
    "Since $P(T>d_k|T \\leq d_{k-1})=0$ i.e. it is impossible for a subject to survive up to $d_k$ if it doesn't survive until $d_{k-1}$, we can conclude that:\n",
    "$$ S(d_k) = P(T>d_k) = P(T>d_k|T>d_{k-1})P(T>d_{k-1}) $$\n",
    "\n",
    "Solving this recursively, we get\n",
    "$$ S(d_k) = P(T>d_k|T>d_{k-1})P(T>d_{k-1}) \\times ... \\times P(T>d_2|T>d_1)P(T>d_1) $$\n",
    "\n",
    "A natural estimation of $P(T>d_k|T>d_{k-1})$ (Conditional Survival Probability at time $d_k$ given the subject is still at risk at time $d_{k-1}$) is \n",
    "$(r_k − q_k)/r_k$,\n",
    "where $r_k$ and $q_k$ denote the number of subjects at risk up to time $d_k$ and died at time $d_k$."
   ]
  },
  {
   "cell_type": "code",
   "execution_count": 3,
   "id": "b9691893",
   "metadata": {
    "scrolled": true
   },
   "outputs": [],
   "source": [
    "def count_at_risk(time, df=df):\n",
    "    return (df['time']>=time).sum()"
   ]
  },
  {
   "cell_type": "code",
   "execution_count": 10,
   "id": "02e7fef2",
   "metadata": {
    "scrolled": true
   },
   "outputs": [],
   "source": [
    "df_survival = df.loc[df['status']==1].groupby(\n",
    "    'time', as_index=False\n",
    ")['_id'].count().rename(columns={\n",
    "    '_id':'q',\n",
    "    'time':'death_time'\n",
    "})\n",
    "df_survival.loc[-1] = [0, 0]  # adding the 1st row with time 0 and 0 death\n",
    "df_survival.index = df_survival.index + 1  # shifting index\n",
    "df_survival.sort_index(inplace=True)\n",
    "# # adding the last row with the max time and 0 death\n",
    "# df_survival.loc[df_survival.shape[0]] = [df['time'].max(), 0]\n",
    "df_survival['r'] = df_survival['death_time'].apply(count_at_risk)\n",
    "\n",
    "df_survival['cond_survival_prob'] = (\n",
    "    (df_survival['r'] - df_survival['q']) / df_survival['r']\n",
    ")\n",
    "\n",
    "df_survival['survival_prob'] = df_survival['cond_survival_prob'].cumprod()\n"
   ]
  },
  {
   "cell_type": "code",
   "execution_count": 12,
   "id": "829535f0",
   "metadata": {},
   "outputs": [],
   "source": [
    "df['q'], df['r'] = np.nan, np.nan\n",
    "df.loc[df['status']==1, 'q'] = df.loc[df['status']==1].groupby('time')['_id'].transform('count')\n",
    "df.loc[df['status']==1, 'r'] = df.loc[df['status']==1, 'time'].apply(count_at_risk)\n",
    "df['cond_survival_prob'] = (df['r'] - df['q']) / df['r']\n",
    "df = df.sort_values(['time', 'status'], ascending=[True, False]).reset_index(drop=True)\n",
    "df['survival_prob'] = df['cond_survival_prob'].cumprod().ffill()\n",
    "\n",
    "df_survival = df[['time', 'survival_prob']].drop_duplicates(subset=['time'])\n",
    "df_survival.loc[-1] = [0, 1]  # adding the 1st row with time 0 and 0 death\n",
    "df_survival.index = df_survival.index + 1  # shifting index\n",
    "df_survival.sort_index(inplace=True)"
   ]
  },
  {
   "cell_type": "code",
   "execution_count": 15,
   "id": "50eae5e3",
   "metadata": {
    "scrolled": false
   },
   "outputs": [
    {
     "data": {
      "image/png": "[encoded data removed]",
      "text/plain": [
       "<Figure size 432x288 with 1 Axes>"
      ]
     },
     "metadata": {
      "needs_background": "light"
     },
     "output_type": "display_data"
    }
   ],
   "source": [
    "plt.step(x=df_survival['time'], y=df_survival['survival_prob'], where='post')\n",
    "display()"
   ]
  },
  {
   "cell_type": "markdown",
   "id": "7e0b5791",
   "metadata": {},
   "source": [
    "#### Kaplan-Meier Survival Curve using Lifelines KaplanMeierFitter\n",
    "\n",
    "We can check the correctness of the manual calculation using the lifelines library. "
   ]
  },
  {
   "cell_type": "code",
   "execution_count": 18,
   "id": "a8812a9d",
   "metadata": {
    "scrolled": false
   },
   "outputs": [
    {
     "data": {
      "image/png": "[encoded data removed]",
      "text/plain": [
       "<Figure size 432x288 with 2 Axes>"
      ]
     },
     "metadata": {
      "needs_background": "light"
     },
     "output_type": "display_data"
    }
   ],
   "source": [
    "kmf = KaplanMeierFitter()\n",
    "kmf.fit(df[\"time\"], df[\"status\"], label='Survival Rate')\n",
    "kmf.plot(at_risk_counts=True)\n",
    "plt.xlabel('Period (in days)')\n",
    "plt.ylabel('Survival rate')\n",
    "display()"
   ]
  },
  {
   "cell_type": "markdown",
   "id": "5bbed06a",
   "metadata": {},
   "source": [
    "The 2 survival curves are actually identical:"
   ]
  },
  {
   "cell_type": "code",
   "execution_count": 21,
   "id": "70eec4d1",
   "metadata": {
    "scrolled": true
   },
   "outputs": [
    {
     "data": {
      "text/plain": [
       "True"
      ]
     },
     "execution_count": 21,
     "metadata": {},
     "output_type": "execute_result"
    }
   ],
   "source": [
    "assert all(np.isclose(df_survival['survival_prob'].values, kmf.survival_function_['Survival Rate'].values))"
   ]
  }
 ],
 "metadata": {
  "kernelspec": {
   "display_name": "Python 3",
   "language": "python",
   "name": "python3"
  },
  "language_info": {
   "codemirror_mode": {
    "name": "ipython",
    "version": 3
   },
   "file_extension": ".py",
   "mimetype": "text/x-python",
   "name": "python",
   "nbconvert_exporter": "python",
   "pygments_lexer": "ipython3",
   "version": "3.8.8"
  },
  "toc": {
   "base_numbering": 1,
   "nav_menu": {},
   "number_sections": true,
   "sideBar": true,
   "skip_h1_title": false,
   "title_cell": "Table of Contents",
   "title_sidebar": "Contents",
   "toc_cell": false,
   "toc_position": {},
   "toc_section_display": true,
   "toc_window_display": false
  }
 },
 "nbformat": 4,
 "nbformat_minor": 5
}
